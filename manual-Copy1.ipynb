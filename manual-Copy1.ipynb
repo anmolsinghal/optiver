{
 "cells": [
  {
   "cell_type": "markdown",
   "metadata": {},
   "source": [
    "# Optibook Manual\n",
    "\n",
    "This notebook contains examples for **all interactions** you can do with optibook (that means inserting orders, getting your positions, etc.). You should use this notebook as a reference/documenation for the system later on when you write more extensive algorithms.\n",
    "\n",
    "First we do some setup and import the optibook client, which is used to connect to the optibook exchange. If everything is setup correctly, you should see the line \"Setup was successful.\" being printed."
   ]
  },
  {
   "cell_type": "code",
   "execution_count": 24,
   "metadata": {},
   "outputs": [],
   "source": [
    "from collections import OrderedDict\n",
    "def get_outstanding_orders(e,instrument_id):\n",
    "    orders = e.get_outstanding_orders(instrument_id)\n",
    "    bids = OrderedDict()\n",
    "    asks = OrderedDict()\n",
    "    print(orders)\n",
    "    for  x in orders:\n",
    "        if(orders[x].side == \"bid\"):\n",
    "            if(bids.get(orders[x].price)):\n",
    "                bids[orders[x].price].append(orders[x])\n",
    "            else:\n",
    "                bids[orders[x].price] = [orders[x]]\n",
    "        else:\n",
    "            if(asks.get(orders[x].price)):\n",
    "                asks[orders[x].price].append(orders[x])\n",
    "            else:\n",
    "                asks[orders[x].price] = [orders[x]]\n",
    "    \n",
    "    return (bids,asks)"
   ]
  },
  {
   "cell_type": "code",
   "execution_count": 41,
   "metadata": {},
   "outputs": [
    {
     "name": "stdout",
     "output_type": "stream",
     "text": [
      "{312421: <optibook.common_types.OrderStatus object at 0x7f9b20420f98>, 312534: <optibook.common_types.OrderStatus object at 0x7f9b20427390>, 312609: <optibook.common_types.OrderStatus object at 0x7f9b204c9748>, 322082: <optibook.common_types.OrderStatus object at 0x7f9b20420828>, 322892: <optibook.common_types.OrderStatus object at 0x7f9b2154def0>, 322989: <optibook.common_types.OrderStatus object at 0x7f9b201aaf28>, 323715: <optibook.common_types.OrderStatus object at 0x7f9b20427550>, 323731: <optibook.common_types.OrderStatus object at 0x7f9b20427160>, 323842: <optibook.common_types.OrderStatus object at 0x7f9b201aabe0>, 323904: <optibook.common_types.OrderStatus object at 0x7f9b201aab38>}\n"
     ]
    },
    {
     "data": {
      "text/plain": [
       "(OrderedDict([(10.0, [<optibook.common_types.OrderStatus at 0x7f9b20420828>]),\n",
       "              (11.0,\n",
       "               [<optibook.common_types.OrderStatus at 0x7f9b2154def0>,\n",
       "                <optibook.common_types.OrderStatus at 0x7f9b201aabe0>,\n",
       "                <optibook.common_types.OrderStatus at 0x7f9b201aab38>]),\n",
       "              (12.0,\n",
       "               [<optibook.common_types.OrderStatus at 0x7f9b201aaf28>,\n",
       "                <optibook.common_types.OrderStatus at 0x7f9b20427550>,\n",
       "                <optibook.common_types.OrderStatus at 0x7f9b20427160>])]),\n",
       " OrderedDict([(2999.0,\n",
       "               [<optibook.common_types.OrderStatus at 0x7f9b20420f98>]),\n",
       "              (2998.0,\n",
       "               [<optibook.common_types.OrderStatus at 0x7f9b20427390>]),\n",
       "              (2997.0,\n",
       "               [<optibook.common_types.OrderStatus at 0x7f9b204c9748>])]))"
      ]
     },
     "execution_count": 41,
     "metadata": {},
     "output_type": "execute_result"
    }
   ],
   "source": [
    "get_outstanding_orders(e,instrument_id)"
   ]
  },
  {
   "cell_type": "code",
   "execution_count": null,
   "metadata": {},
   "outputs": [],
   "source": []
  },
  {
   "cell_type": "code",
   "execution_count": null,
   "metadata": {},
   "outputs": [],
   "source": []
  },
  {
   "cell_type": "code",
   "execution_count": null,
   "metadata": {},
   "outputs": [],
   "source": []
  },
  {
   "cell_type": "code",
   "execution_count": null,
   "metadata": {},
   "outputs": [],
   "source": []
  },
  {
   "cell_type": "code",
   "execution_count": null,
   "metadata": {},
   "outputs": [],
   "source": []
  },
  {
   "cell_type": "code",
   "execution_count": null,
   "metadata": {},
   "outputs": [],
   "source": []
  },
  {
   "cell_type": "code",
   "execution_count": null,
   "metadata": {},
   "outputs": [],
   "source": []
  },
  {
   "cell_type": "code",
   "execution_count": 1,
   "metadata": {},
   "outputs": [
    {
     "name": "stdout",
     "output_type": "stream",
     "text": [
      "Setup was successful.\n"
     ]
    }
   ],
   "source": [
    "from optibook.synchronous_client import Exchange\n",
    "\n",
    "import logging\n",
    "logger = logging.getLogger('client')\n",
    "logger.setLevel('ERROR')\n",
    "\n",
    "print(\"Setup was successful.\")"
   ]
  },
  {
   "cell_type": "markdown",
   "metadata": {},
   "source": [
    "### Define Your Instrument\n",
    "\n",
    "An instrument is the term we use for the 'thing' that we are trading. As such, if we are trading BMW stocks, we would call those an instrument. However, BMW options would be a different instrument. \n",
    "\n",
    "This field determines which instrument we are trading. By changing it, you will insert trades for a different instrument. You can see all available instruments by looking at the dropdown menu labeled \"Instruments\" on the visualizer."
   ]
  },
  {
   "cell_type": "code",
   "execution_count": 2,
   "metadata": {},
   "outputs": [],
   "source": [
    "instrument_id = 'PHILIPS_A'"
   ]
  },
  {
   "cell_type": "markdown",
   "metadata": {},
   "source": [
    "### Connect to Exchange"
   ]
  },
  {
   "cell_type": "code",
   "execution_count": 3,
   "metadata": {},
   "outputs": [
    {
     "name": "stderr",
     "output_type": "stream",
     "text": [
      "2022-04-03 03:06:09,377 [asyncio   ] [MainThread  ] Using selector: EpollSelector\n"
     ]
    }
   ],
   "source": [
    "e = Exchange()\n",
    "a = e.connect()\n",
    "\n",
    "# you can also define host/user/pass yourself\n",
    "# when not defined, it is taken from ~/.optibook file if it exists\n",
    "# if that file does not exists, an error is thrown\n",
    "\n",
    "# e = Exchange(host='host-to-connect-to')\n",
    "# a = e.connect(username='your-username', password='your-password')\n"
   ]
  },
  {
   "cell_type": "markdown",
   "metadata": {},
   "source": [
    "## Outstanding Orders, Trades, Current Positions and PnL"
   ]
  },
  {
   "cell_type": "code",
   "execution_count": 31,
   "metadata": {},
   "outputs": [
    {
     "name": "stdout",
     "output_type": "stream",
     "text": [
      "312421 PHILIPS_A 2999.0 1 ask\n",
      "312534 PHILIPS_A 2998.0 1 ask\n",
      "312609 PHILIPS_A 2997.0 1 ask\n"
     ]
    }
   ],
   "source": [
    "# Returns all currently outstanding orders\n",
    "orders = e.get_outstanding_orders(instrument_id)\n",
    "for o in orders.values():\n",
    "    print(o.order_id,o.instrument_id,o.price,o.volume,o.side)"
   ]
  },
  {
   "cell_type": "code",
   "execution_count": 6,
   "metadata": {},
   "outputs": [],
   "source": [
    "# Returns all trades you have done since the last time this function was called\n",
    "trades = e.poll_new_trades(instrument_id)\n",
    "for t in trades:\n",
    "    print(f\"[TRADED {t.instrument_id}] price({t.price}), volume({t.volume}), side({t.side})\")"
   ]
  },
  {
   "cell_type": "code",
   "execution_count": 27,
   "metadata": {},
   "outputs": [],
   "source": [
    "# Returns all trades you have done since since the instantiation of the Exchange\n",
    "trades = e.get_trade_history(instrument_id)\n",
    "for t in trades:\n",
    "    print(f\"[TRADED {t.instrument_id}] price({t.price}), volume({t.volume}), side({t.side})\")"
   ]
  },
  {
   "cell_type": "code",
   "execution_count": 22,
   "metadata": {},
   "outputs": [
    {
     "name": "stdout",
     "output_type": "stream",
     "text": [
      "PHILIPS_A 39\n",
      "PHILIPS_B 0\n"
     ]
    }
   ],
   "source": [
    "# Returns all current positions\n",
    "positions = e.get_positions()\n",
    "for p in positions:\n",
    "    print(p, positions[p])"
   ]
  },
  {
   "cell_type": "code",
   "execution_count": 8,
   "metadata": {},
   "outputs": [
    {
     "name": "stdout",
     "output_type": "stream",
     "text": [
      "PHILIPS_A {'volume': 0, 'cash': 0.0}\n",
      "PHILIPS_B {'volume': 0, 'cash': 0.0}\n"
     ]
    }
   ],
   "source": [
    "# Returns all current positions with cash invested\n",
    "positions = e.get_positions_and_cash()\n",
    "for p in positions:\n",
    "    print(p, positions[p])"
   ]
  },
  {
   "cell_type": "code",
   "execution_count": 9,
   "metadata": {},
   "outputs": [
    {
     "name": "stdout",
     "output_type": "stream",
     "text": [
      "0.0\n"
     ]
    }
   ],
   "source": [
    "# Returns Current PnL based on last Traded Price\n",
    "pnl = e.get_pnl()\n",
    "print(pnl)"
   ]
  },
  {
   "cell_type": "markdown",
   "metadata": {},
   "source": [
    "## Order Book and Public Trade Ticks"
   ]
  },
  {
   "cell_type": "code",
   "execution_count": 10,
   "metadata": {},
   "outputs": [
    {
     "name": "stdout",
     "output_type": "stream",
     "text": [
      "2022-04-03 00:44:23.695101\n"
     ]
    }
   ],
   "source": [
    "book = e.get_last_price_book(instrument_id)\n",
    "print(book.timestamp)"
   ]
  },
  {
   "cell_type": "code",
   "execution_count": 12,
   "metadata": {},
   "outputs": [
    {
     "data": {
      "text/plain": [
       "optibook.common_types.PriceVolume"
      ]
     },
     "execution_count": 12,
     "metadata": {},
     "output_type": "execute_result"
    }
   ],
   "source": [
    "type(book.bids[0])"
   ]
  },
  {
   "cell_type": "code",
   "execution_count": 11,
   "metadata": {},
   "outputs": [
    {
     "name": "stdout",
     "output_type": "stream",
     "text": [
      "[PHILIPS_A] timesteamp(2022-04-03 00:44:00) price(82.5), volume(5), aggressor_side(bid), buyer(), seller()\n",
      "[PHILIPS_A] timesteamp(2022-04-03 00:44:04) price(82.10000000000001), volume(15), aggressor_side(ask), buyer(), seller()\n",
      "[PHILIPS_A] timesteamp(2022-04-03 00:44:04) price(82.60000000000001), volume(15), aggressor_side(bid), buyer(), seller()\n",
      "[PHILIPS_A] timesteamp(2022-04-03 00:44:04) price(82.60000000000001), volume(5), aggressor_side(bid), buyer(), seller()\n",
      "[PHILIPS_A] timesteamp(2022-04-03 00:44:04) price(82.60000000000001), volume(15), aggressor_side(bid), buyer(), seller()\n",
      "[PHILIPS_A] timesteamp(2022-04-03 00:44:04) price(82.60000000000001), volume(15), aggressor_side(bid), buyer(), seller()\n",
      "[PHILIPS_A] timesteamp(2022-04-03 00:44:05) price(82.60000000000001), volume(15), aggressor_side(bid), buyer(), seller()\n",
      "[PHILIPS_A] timesteamp(2022-04-03 00:44:14) price(82.7), volume(5), aggressor_side(bid), buyer(), seller()\n",
      "[PHILIPS_A] timesteamp(2022-04-03 00:44:17) price(82.10000000000001), volume(15), aggressor_side(ask), buyer(), seller()\n",
      "[PHILIPS_A] timesteamp(2022-04-03 00:44:17) price(82.10000000000001), volume(15), aggressor_side(ask), buyer(), seller()\n",
      "[PHILIPS_A] timesteamp(2022-04-03 00:44:17) price(82.10000000000001), volume(20), aggressor_side(ask), buyer(), seller()\n",
      "[PHILIPS_A] timesteamp(2022-04-03 00:44:17) price(82.7), volume(200), aggressor_side(bid), buyer(), seller()\n",
      "[PHILIPS_A] timesteamp(2022-04-03 00:44:18) price(82.7), volume(29), aggressor_side(bid), buyer(), seller()\n",
      "[PHILIPS_A] timesteamp(2022-04-03 00:44:18) price(82.10000000000001), volume(20), aggressor_side(ask), buyer(), seller()\n",
      "[PHILIPS_A] timesteamp(2022-04-03 00:44:18) price(82.7), volume(30), aggressor_side(bid), buyer(), seller()\n",
      "[PHILIPS_A] timesteamp(2022-04-03 00:44:18) price(82.7), volume(30), aggressor_side(bid), buyer(), seller()\n",
      "[PHILIPS_A] timesteamp(2022-04-03 00:44:18) price(82.7), volume(400), aggressor_side(bid), buyer(), seller()\n",
      "[PHILIPS_A] timesteamp(2022-04-03 00:44:19) price(82.10000000000001), volume(40), aggressor_side(ask), buyer(), seller()\n",
      "[PHILIPS_A] timesteamp(2022-04-03 00:44:19) price(83.10000000000001), volume(30), aggressor_side(bid), buyer(), seller()\n",
      "[PHILIPS_A] timesteamp(2022-04-03 00:44:19) price(83.80000000000001), volume(30), aggressor_side(bid), buyer(), seller()\n",
      "[PHILIPS_A] timesteamp(2022-04-03 00:44:19) price(82.7), volume(30), aggressor_side(bid), buyer(), seller()\n",
      "[PHILIPS_A] timesteamp(2022-04-03 00:44:19) price(82.7), volume(30), aggressor_side(bid), buyer(), seller()\n",
      "[PHILIPS_A] timesteamp(2022-04-03 00:44:19) price(82.10000000000001), volume(40), aggressor_side(ask), buyer(), seller()\n",
      "[PHILIPS_A] timesteamp(2022-04-03 00:44:20) price(82.7), volume(30), aggressor_side(bid), buyer(), seller()\n",
      "[PHILIPS_A] timesteamp(2022-04-03 00:44:21) price(82.10000000000001), volume(39), aggressor_side(ask), buyer(), seller()\n",
      "[PHILIPS_A] timesteamp(2022-04-03 00:44:21) price(82.2), volume(15), aggressor_side(ask), buyer(), seller()\n",
      "[PHILIPS_A] timesteamp(2022-04-03 00:44:21) price(82.2), volume(15), aggressor_side(ask), buyer(), seller()\n",
      "[PHILIPS_A] timesteamp(2022-04-03 00:44:21) price(82.2), volume(20), aggressor_side(ask), buyer(), seller()\n",
      "[PHILIPS_A] timesteamp(2022-04-03 00:44:21) price(82.2), volume(15), aggressor_side(ask), buyer(), seller()\n",
      "[PHILIPS_A] timesteamp(2022-04-03 00:44:21) price(82.2), volume(15), aggressor_side(ask), buyer(), seller()\n",
      "[PHILIPS_A] timesteamp(2022-04-03 00:44:22) price(82.2), volume(20), aggressor_side(ask), buyer(), seller()\n",
      "[PHILIPS_A] timesteamp(2022-04-03 00:44:22) price(82.2), volume(15), aggressor_side(ask), buyer(), seller()\n",
      "[PHILIPS_A] timesteamp(2022-04-03 00:44:22) price(82.2), volume(15), aggressor_side(ask), buyer(), seller()\n",
      "[PHILIPS_A] timesteamp(2022-04-03 00:44:22) price(82.2), volume(5), aggressor_side(ask), buyer(), seller()\n",
      "[PHILIPS_A] timesteamp(2022-04-03 00:44:22) price(82.2), volume(15), aggressor_side(ask), buyer(), seller()\n",
      "[PHILIPS_A] timesteamp(2022-04-03 00:44:22) price(82.2), volume(20), aggressor_side(ask), buyer(), seller()\n",
      "[PHILIPS_A] timesteamp(2022-04-03 00:44:22) price(82.2), volume(15), aggressor_side(ask), buyer(), seller()\n",
      "[PHILIPS_A] timesteamp(2022-04-03 00:44:22) price(82.2), volume(15), aggressor_side(ask), buyer(), seller()\n",
      "[PHILIPS_A] timesteamp(2022-04-03 00:44:22) price(82.2), volume(20), aggressor_side(ask), buyer(), seller()\n",
      "[PHILIPS_A] timesteamp(2022-04-03 00:44:22) price(82.2), volume(15), aggressor_side(ask), buyer(), seller()\n",
      "[PHILIPS_A] timesteamp(2022-04-03 00:44:25) price(82.10000000000001), volume(5), aggressor_side(ask), buyer(), seller()\n"
     ]
    }
   ],
   "source": [
    "# Returns all public tradeticks since the last time this function was called\n",
    "tradeticks = e.poll_new_trade_ticks(instrument_id)\n",
    "for t in tradeticks:\n",
    "    print(f\"[{t.instrument_id}] timesteamp({t.timestamp}) price({t.price}), volume({t.volume}), aggressor_side({t.aggressor_side}), buyer({t.buyer}), seller({t.seller})\")"
   ]
  },
  {
   "cell_type": "code",
   "execution_count": 36,
   "metadata": {},
   "outputs": [
    {
     "name": "stdout",
     "output_type": "stream",
     "text": [
      "<optibook.common_types.TradeTick object at 0x7f8000020ac8>\n",
      "<optibook.common_types.TradeTick object at 0x7f8000020668>\n",
      "<optibook.common_types.TradeTick object at 0x7f800012b128>\n",
      "<optibook.common_types.TradeTick object at 0x7f80011cac88>\n",
      "<optibook.common_types.TradeTick object at 0x7f8000028908>\n",
      "<optibook.common_types.TradeTick object at 0x7f800002ccc0>\n",
      "<optibook.common_types.TradeTick object at 0x7f8000030080>\n",
      "<optibook.common_types.TradeTick object at 0x7f800000f9b0>\n",
      "<optibook.common_types.TradeTick object at 0x7f800000f908>\n",
      "<optibook.common_types.TradeTick object at 0x7f8000077b70>\n",
      "<optibook.common_types.TradeTick object at 0x7f8000030208>\n",
      "<optibook.common_types.TradeTick object at 0x7f80000307b8>\n",
      "<optibook.common_types.TradeTick object at 0x7f800008bcc0>\n",
      "<optibook.common_types.TradeTick object at 0x7f800000f048>\n",
      "<optibook.common_types.TradeTick object at 0x7f8000030908>\n",
      "<optibook.common_types.TradeTick object at 0x7f8000087d68>\n",
      "<optibook.common_types.TradeTick object at 0x7f8000030dd8>\n",
      "<optibook.common_types.TradeTick object at 0x7f8000089710>\n",
      "<optibook.common_types.TradeTick object at 0x7f80011ca208>\n",
      "<optibook.common_types.TradeTick object at 0x7f800000f630>\n",
      "<optibook.common_types.TradeTick object at 0x7f8000087f98>\n",
      "<optibook.common_types.TradeTick object at 0x7f8000087278>\n",
      "<optibook.common_types.TradeTick object at 0x7f8000032320>\n",
      "<optibook.common_types.TradeTick object at 0x7f800000f4a8>\n",
      "<optibook.common_types.TradeTick object at 0x7f800001c940>\n",
      "<optibook.common_types.TradeTick object at 0x7f80000899e8>\n",
      "<optibook.common_types.TradeTick object at 0x7f80000206a0>\n",
      "<optibook.common_types.TradeTick object at 0x7f8000089080>\n",
      "<optibook.common_types.TradeTick object at 0x7f800008b9e8>\n",
      "<optibook.common_types.TradeTick object at 0x7f800002c860>\n",
      "<optibook.common_types.TradeTick object at 0x7f800001cf28>\n",
      "<optibook.common_types.TradeTick object at 0x7f800008bf98>\n",
      "<optibook.common_types.TradeTick object at 0x7f8000089a20>\n",
      "<optibook.common_types.TradeTick object at 0x7f80000286d8>\n",
      "<optibook.common_types.TradeTick object at 0x7f8000032080>\n",
      "<optibook.common_types.TradeTick object at 0x7f800000fef0>\n",
      "<optibook.common_types.TradeTick object at 0x7f80011ade10>\n",
      "<optibook.common_types.TradeTick object at 0x7f8000028320>\n",
      "<optibook.common_types.TradeTick object at 0x7f8000077550>\n",
      "<optibook.common_types.TradeTick object at 0x7f8000030e48>\n",
      "<optibook.common_types.TradeTick object at 0x7f8000028d68>\n",
      "<optibook.common_types.TradeTick object at 0x7f80011c5358>\n",
      "<optibook.common_types.TradeTick object at 0x7f80011ca2e8>\n",
      "<optibook.common_types.TradeTick object at 0x7f8000030a90>\n",
      "<optibook.common_types.TradeTick object at 0x7f800010fe48>\n",
      "<optibook.common_types.TradeTick object at 0x7f800000fa90>\n",
      "<optibook.common_types.TradeTick object at 0x7f800000f0b8>\n",
      "<optibook.common_types.TradeTick object at 0x7f80011c52b0>\n",
      "<optibook.common_types.TradeTick object at 0x7f8000087438>\n",
      "<optibook.common_types.TradeTick object at 0x7f80000894e0>\n",
      "<optibook.common_types.TradeTick object at 0x7f8000020e80>\n",
      "<optibook.common_types.TradeTick object at 0x7f800008b278>\n",
      "<optibook.common_types.TradeTick object at 0x7f8000089128>\n",
      "<optibook.common_types.TradeTick object at 0x7f800000f358>\n",
      "<optibook.common_types.TradeTick object at 0x7f80011ad9b0>\n",
      "<optibook.common_types.TradeTick object at 0x7f800008bb38>\n",
      "<optibook.common_types.TradeTick object at 0x7f8000087f28>\n",
      "<optibook.common_types.TradeTick object at 0x7f800012b6d8>\n",
      "<optibook.common_types.TradeTick object at 0x7f80000325c0>\n",
      "<optibook.common_types.TradeTick object at 0x7f800000f400>\n",
      "<optibook.common_types.TradeTick object at 0x7f80000774a8>\n",
      "<optibook.common_types.TradeTick object at 0x7f8000077320>\n",
      "<optibook.common_types.TradeTick object at 0x7f80000208d0>\n",
      "<optibook.common_types.TradeTick object at 0x7f8000089748>\n",
      "<optibook.common_types.TradeTick object at 0x7f8000032e48>\n",
      "<optibook.common_types.TradeTick object at 0x7f800000f9e8>\n",
      "<optibook.common_types.TradeTick object at 0x7f800008b978>\n",
      "<optibook.common_types.TradeTick object at 0x7f8000032668>\n",
      "<optibook.common_types.TradeTick object at 0x7f8000089e80>\n",
      "<optibook.common_types.TradeTick object at 0x7f800001c860>\n",
      "<optibook.common_types.TradeTick object at 0x7f80000132b0>\n",
      "<optibook.common_types.TradeTick object at 0x7f8000089828>\n",
      "<optibook.common_types.TradeTick object at 0x7f80011c5c88>\n",
      "<optibook.common_types.TradeTick object at 0x7f80011c5f98>\n",
      "<optibook.common_types.TradeTick object at 0x7f8000089358>\n",
      "<optibook.common_types.TradeTick object at 0x7f80000136a0>\n",
      "<optibook.common_types.TradeTick object at 0x7f80011ca080>\n",
      "<optibook.common_types.TradeTick object at 0x7f8000087198>\n",
      "<optibook.common_types.TradeTick object at 0x7f8000134b00>\n",
      "<optibook.common_types.TradeTick object at 0x7f800000fe80>\n",
      "<optibook.common_types.TradeTick object at 0x7f8000087240>\n",
      "<optibook.common_types.TradeTick object at 0x7f800001cd68>\n",
      "<optibook.common_types.TradeTick object at 0x7f80011ca898>\n",
      "<optibook.common_types.TradeTick object at 0x7f800000f518>\n",
      "<optibook.common_types.TradeTick object at 0x7f80011c5eb8>\n",
      "<optibook.common_types.TradeTick object at 0x7f80011adfd0>\n",
      "<optibook.common_types.TradeTick object at 0x7f8000089eb8>\n",
      "<optibook.common_types.TradeTick object at 0x7f80000873c8>\n",
      "<optibook.common_types.TradeTick object at 0x7f80000205c0>\n",
      "<optibook.common_types.TradeTick object at 0x7f8000032630>\n",
      "<optibook.common_types.TradeTick object at 0x7f8000077160>\n",
      "<optibook.common_types.TradeTick object at 0x7f800008b940>\n",
      "<optibook.common_types.TradeTick object at 0x7f800000f978>\n",
      "<optibook.common_types.TradeTick object at 0x7f8000013048>\n",
      "<optibook.common_types.TradeTick object at 0x7f800008b6d8>\n",
      "<optibook.common_types.TradeTick object at 0x7f800000fa58>\n",
      "<optibook.common_types.TradeTick object at 0x7f8000020198>\n",
      "<optibook.common_types.TradeTick object at 0x7f8000077a90>\n",
      "<optibook.common_types.TradeTick object at 0x7f800008b898>\n",
      "<optibook.common_types.TradeTick object at 0x7f800000fac8>\n"
     ]
    },
    {
     "name": "stderr",
     "output_type": "stream",
     "text": [
      "2022-04-02 20:44:22,963 [client    ] [Thread-5    ] Forcing a disconnect due to an error: Closing connection because someone else logged in with the same credentials. Only one session may be active at the same time.\n"
     ]
    }
   ],
   "source": [
    "# Returns all public tradeticks since the instantiation of the Exchange\n",
    "tradeticks = e.get_trade_tick_history(instrument_id)\n",
    "for t in tradeticks:\n",
    "    print(t)"
   ]
  },
  {
   "cell_type": "code",
   "execution_count": 13,
   "metadata": {},
   "outputs": [],
   "source": [
    "# See all your outstanding orders\n",
    "outstanding = e.get_outstanding_orders(instrument_id)\n",
    "for o in outstanding.values():\n",
    "    print(f\"Outstanding order: order_id({o.order_id}), instrument_id({o.instrument_id}), price({o.price}), volume({o.volume}), side({o.side})\")"
   ]
  },
  {
   "cell_type": "markdown",
   "metadata": {},
   "source": [
    "## Inserting and Deleting Orders"
   ]
  },
  {
   "cell_type": "code",
   "execution_count": 40,
   "metadata": {},
   "outputs": [
    {
     "name": "stdout",
     "output_type": "stream",
     "text": [
      "Order Id: 323904\n"
     ]
    }
   ],
   "source": [
    "# Insert bid limit order - This trades against any current orders, and any remainders become new resting orders in the book\n",
    "# Use this to buy.\n",
    "result = e.insert_order(instrument_id, price=11, volume=1, side='bid', order_type='limit')\n",
    "print(f\"Order Id: {result}\")"
   ]
  },
  {
   "cell_type": "code",
   "execution_count": null,
   "metadata": {},
   "outputs": [],
   "source": []
  },
  {
   "cell_type": "code",
   "execution_count": null,
   "metadata": {},
   "outputs": [],
   "source": []
  },
  {
   "cell_type": "code",
   "execution_count": 11,
   "metadata": {},
   "outputs": [
    {
     "name": "stdout",
     "output_type": "stream",
     "text": [
      "Order Id: 312609\n"
     ]
    }
   ],
   "source": [
    "# Insert ask limit order - This trades against any current orders, and any remainders become new resting orders in the book\n",
    "# Use this to sell.\n",
    "result = e.insert_order(instrument_id, price=2997, volume=1, side='ask', order_type='limit')\n",
    "print(f\"Order Id: {result}\")"
   ]
  },
  {
   "cell_type": "code",
   "execution_count": null,
   "metadata": {},
   "outputs": [],
   "source": []
  },
  {
   "cell_type": "code",
   "execution_count": 16,
   "metadata": {},
   "outputs": [
    {
     "name": "stdout",
     "output_type": "stream",
     "text": [
      "Order Id: 534174\n"
     ]
    }
   ],
   "source": [
    "# Insert bid IOC - This can trade against any resting volume but does not remain in the book\n",
    "# Use this to buy.\n",
    "result = e.insert_order(instrument_id, price=445.0, volume=1, side='bid', order_type='ioc')\n",
    "print(f\"Order Id: {result}\")"
   ]
  },
  {
   "cell_type": "code",
   "execution_count": 17,
   "metadata": {},
   "outputs": [
    {
     "name": "stdout",
     "output_type": "stream",
     "text": [
      "Order Id: 534175\n"
     ]
    }
   ],
   "source": [
    "# Insert ask IOC - This can trade against any resting volume but does not remain in the book\n",
    "# Use this to sell.\n",
    "result = e.insert_order(instrument_id, price=430.0, volume=1, side='ask', order_type='ioc')\n",
    "print(f\"Order Id: {result}\")"
   ]
  },
  {
   "cell_type": "code",
   "execution_count": 18,
   "metadata": {},
   "outputs": [
    {
     "name": "stdout",
     "output_type": "stream",
     "text": [
      "\n",
      "Deleted order id 4: False\n"
     ]
    }
   ],
   "source": [
    "# Attempt to delete inserted order by order_id\n",
    "order_id = 4\n",
    "result = e.delete_order(instrument_id, order_id=order_id)\n",
    "print()\n",
    "print(f\"Deleted order id {order_id}: {result}\")"
   ]
  },
  {
   "cell_type": "code",
   "execution_count": 19,
   "metadata": {},
   "outputs": [
    {
     "name": "stdout",
     "output_type": "stream",
     "text": [
      "Changed volume for order id 5 to 16 lots: False\n"
     ]
    }
   ],
   "source": [
    "# Change volume for existing order\n",
    "order_id = 5\n",
    "new_volume = 16\n",
    "result = e.amend_order(instrument_id, order_id=order_id, volume=new_volume)\n",
    "print(f\"Changed volume for order id {order_id} to {new_volume} lots: {result}\")"
   ]
  },
  {
   "cell_type": "code",
   "execution_count": 20,
   "metadata": {},
   "outputs": [
    {
     "name": "stdout",
     "output_type": "stream",
     "text": [
      "Deleted order id 534165: True\n"
     ]
    }
   ],
   "source": [
    "# Delete all outstanding orders\n",
    "outstanding = e.get_outstanding_orders(instrument_id)\n",
    "for o in outstanding.values():\n",
    "    result = e.delete_order(instrument_id, order_id=o.order_id)\n",
    "    print(f\"Deleted order id {o.order_id}: {result}\")"
   ]
  },
  {
   "cell_type": "markdown",
   "metadata": {},
   "source": [
    "## 'Hack' Out of Positions"
   ]
  },
  {
   "cell_type": "code",
   "execution_count": 21,
   "metadata": {},
   "outputs": [
    {
     "name": "stdout",
     "output_type": "stream",
     "text": [
      "{'PHILIPS_A': 22, 'PHILIPS_B': 0}\n",
      "{'PHILIPS_A': 0, 'PHILIPS_B': 0}\n"
     ]
    }
   ],
   "source": [
    "# Get out of all positions you are currently holding, regarless of the loss involved. That means selling whatever\n",
    "# you are long, and buying-back whatever you are short. Be sure you know what you are doing when you use this logic.\n",
    "print(e.get_positions())\n",
    "for s, p in e.get_positions().items():\n",
    "    if p > 0:\n",
    "        e.insert_order(s, price=1, volume=p, side='ask', order_type='ioc')\n",
    "    elif p < 0:\n",
    "        e.insert_order(s, price=100000, volume=-p, side='bid', order_type='ioc')  \n",
    "print(e.get_positions())"
   ]
  },
  {
   "cell_type": "code",
   "execution_count": null,
   "metadata": {},
   "outputs": [],
   "source": []
  }
 ],
 "metadata": {
  "kernelspec": {
   "display_name": "Python 3",
   "language": "python",
   "name": "python3"
  },
  "language_info": {
   "codemirror_mode": {
    "name": "ipython",
    "version": 3
   },
   "file_extension": ".py",
   "mimetype": "text/x-python",
   "name": "python",
   "nbconvert_exporter": "python",
   "pygments_lexer": "ipython3",
   "version": "3.6.12"
  }
 },
 "nbformat": 4,
 "nbformat_minor": 4
}
